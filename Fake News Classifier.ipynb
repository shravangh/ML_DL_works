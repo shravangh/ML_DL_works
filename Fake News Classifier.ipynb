{
 "cells": [
  {
   "cell_type": "markdown",
   "id": "98bf346e",
   "metadata": {},
   "source": [
    "# 1. a. Using only title as text feature"
   ]
  },
  {
   "cell_type": "code",
   "execution_count": 189,
   "id": "6492a28e",
   "metadata": {},
   "outputs": [],
   "source": [
    "import pandas as pd"
   ]
  },
  {
   "cell_type": "code",
   "execution_count": 190,
   "id": "bc5af6ca",
   "metadata": {},
   "outputs": [],
   "source": [
    "df=pd.read_csv('train.csv')"
   ]
  },
  {
   "cell_type": "code",
   "execution_count": 191,
   "id": "f3a25c54",
   "metadata": {},
   "outputs": [
    {
     "data": {
      "text/html": [
       "<div>\n",
       "<style scoped>\n",
       "    .dataframe tbody tr th:only-of-type {\n",
       "        vertical-align: middle;\n",
       "    }\n",
       "\n",
       "    .dataframe tbody tr th {\n",
       "        vertical-align: top;\n",
       "    }\n",
       "\n",
       "    .dataframe thead th {\n",
       "        text-align: right;\n",
       "    }\n",
       "</style>\n",
       "<table border=\"1\" class=\"dataframe\">\n",
       "  <thead>\n",
       "    <tr style=\"text-align: right;\">\n",
       "      <th></th>\n",
       "      <th>id</th>\n",
       "      <th>title</th>\n",
       "      <th>author</th>\n",
       "      <th>text</th>\n",
       "      <th>label</th>\n",
       "    </tr>\n",
       "  </thead>\n",
       "  <tbody>\n",
       "    <tr>\n",
       "      <th>0</th>\n",
       "      <td>0</td>\n",
       "      <td>House Dem Aide: We Didn’t Even See Comey’s Let...</td>\n",
       "      <td>Darrell Lucus</td>\n",
       "      <td>House Dem Aide: We Didn’t Even See Comey’s Let...</td>\n",
       "      <td>1</td>\n",
       "    </tr>\n",
       "    <tr>\n",
       "      <th>1</th>\n",
       "      <td>1</td>\n",
       "      <td>FLYNN: Hillary Clinton, Big Woman on Campus - ...</td>\n",
       "      <td>Daniel J. Flynn</td>\n",
       "      <td>Ever get the feeling your life circles the rou...</td>\n",
       "      <td>0</td>\n",
       "    </tr>\n",
       "    <tr>\n",
       "      <th>2</th>\n",
       "      <td>2</td>\n",
       "      <td>Why the Truth Might Get You Fired</td>\n",
       "      <td>Consortiumnews.com</td>\n",
       "      <td>Why the Truth Might Get You Fired October 29, ...</td>\n",
       "      <td>1</td>\n",
       "    </tr>\n",
       "    <tr>\n",
       "      <th>3</th>\n",
       "      <td>3</td>\n",
       "      <td>15 Civilians Killed In Single US Airstrike Hav...</td>\n",
       "      <td>Jessica Purkiss</td>\n",
       "      <td>Videos 15 Civilians Killed In Single US Airstr...</td>\n",
       "      <td>1</td>\n",
       "    </tr>\n",
       "    <tr>\n",
       "      <th>4</th>\n",
       "      <td>4</td>\n",
       "      <td>Iranian woman jailed for fictional unpublished...</td>\n",
       "      <td>Howard Portnoy</td>\n",
       "      <td>Print \\nAn Iranian woman has been sentenced to...</td>\n",
       "      <td>1</td>\n",
       "    </tr>\n",
       "  </tbody>\n",
       "</table>\n",
       "</div>"
      ],
      "text/plain": [
       "   id                                              title              author  \\\n",
       "0   0  House Dem Aide: We Didn’t Even See Comey’s Let...       Darrell Lucus   \n",
       "1   1  FLYNN: Hillary Clinton, Big Woman on Campus - ...     Daniel J. Flynn   \n",
       "2   2                  Why the Truth Might Get You Fired  Consortiumnews.com   \n",
       "3   3  15 Civilians Killed In Single US Airstrike Hav...     Jessica Purkiss   \n",
       "4   4  Iranian woman jailed for fictional unpublished...      Howard Portnoy   \n",
       "\n",
       "                                                text  label  \n",
       "0  House Dem Aide: We Didn’t Even See Comey’s Let...      1  \n",
       "1  Ever get the feeling your life circles the rou...      0  \n",
       "2  Why the Truth Might Get You Fired October 29, ...      1  \n",
       "3  Videos 15 Civilians Killed In Single US Airstr...      1  \n",
       "4  Print \\nAn Iranian woman has been sentenced to...      1  "
      ]
     },
     "execution_count": 191,
     "metadata": {},
     "output_type": "execute_result"
    }
   ],
   "source": [
    "df.head(5)"
   ]
  },
  {
   "cell_type": "code",
   "execution_count": 192,
   "id": "a58a4468",
   "metadata": {},
   "outputs": [],
   "source": [
    "#dropping Nan values\n",
    "df=df.dropna()"
   ]
  },
  {
   "cell_type": "code",
   "execution_count": 193,
   "id": "add2e969",
   "metadata": {},
   "outputs": [],
   "source": [
    "X=df.drop('label',axis=1)"
   ]
  },
  {
   "cell_type": "code",
   "execution_count": 194,
   "id": "d3edf553",
   "metadata": {},
   "outputs": [],
   "source": [
    "y=df['label']"
   ]
  },
  {
   "cell_type": "code",
   "execution_count": 195,
   "id": "703ca099",
   "metadata": {},
   "outputs": [
    {
     "name": "stdout",
     "output_type": "stream",
     "text": [
      "(18285, 4)\n",
      "(18285,)\n"
     ]
    }
   ],
   "source": [
    "print(X.shape)\n",
    "print(y.shape)"
   ]
  },
  {
   "cell_type": "code",
   "execution_count": 196,
   "id": "4d7a2ddf",
   "metadata": {},
   "outputs": [
    {
     "data": {
      "text/html": [
       "<div>\n",
       "<style scoped>\n",
       "    .dataframe tbody tr th:only-of-type {\n",
       "        vertical-align: middle;\n",
       "    }\n",
       "\n",
       "    .dataframe tbody tr th {\n",
       "        vertical-align: top;\n",
       "    }\n",
       "\n",
       "    .dataframe thead th {\n",
       "        text-align: right;\n",
       "    }\n",
       "</style>\n",
       "<table border=\"1\" class=\"dataframe\">\n",
       "  <thead>\n",
       "    <tr style=\"text-align: right;\">\n",
       "      <th></th>\n",
       "      <th>id</th>\n",
       "      <th>title</th>\n",
       "      <th>author</th>\n",
       "      <th>text</th>\n",
       "    </tr>\n",
       "  </thead>\n",
       "  <tbody>\n",
       "    <tr>\n",
       "      <th>0</th>\n",
       "      <td>0</td>\n",
       "      <td>House Dem Aide: We Didn’t Even See Comey’s Let...</td>\n",
       "      <td>Darrell Lucus</td>\n",
       "      <td>House Dem Aide: We Didn’t Even See Comey’s Let...</td>\n",
       "    </tr>\n",
       "    <tr>\n",
       "      <th>1</th>\n",
       "      <td>1</td>\n",
       "      <td>FLYNN: Hillary Clinton, Big Woman on Campus - ...</td>\n",
       "      <td>Daniel J. Flynn</td>\n",
       "      <td>Ever get the feeling your life circles the rou...</td>\n",
       "    </tr>\n",
       "    <tr>\n",
       "      <th>2</th>\n",
       "      <td>2</td>\n",
       "      <td>Why the Truth Might Get You Fired</td>\n",
       "      <td>Consortiumnews.com</td>\n",
       "      <td>Why the Truth Might Get You Fired October 29, ...</td>\n",
       "    </tr>\n",
       "    <tr>\n",
       "      <th>3</th>\n",
       "      <td>3</td>\n",
       "      <td>15 Civilians Killed In Single US Airstrike Hav...</td>\n",
       "      <td>Jessica Purkiss</td>\n",
       "      <td>Videos 15 Civilians Killed In Single US Airstr...</td>\n",
       "    </tr>\n",
       "    <tr>\n",
       "      <th>4</th>\n",
       "      <td>4</td>\n",
       "      <td>Iranian woman jailed for fictional unpublished...</td>\n",
       "      <td>Howard Portnoy</td>\n",
       "      <td>Print \\nAn Iranian woman has been sentenced to...</td>\n",
       "    </tr>\n",
       "  </tbody>\n",
       "</table>\n",
       "</div>"
      ],
      "text/plain": [
       "   id                                              title              author  \\\n",
       "0   0  House Dem Aide: We Didn’t Even See Comey’s Let...       Darrell Lucus   \n",
       "1   1  FLYNN: Hillary Clinton, Big Woman on Campus - ...     Daniel J. Flynn   \n",
       "2   2                  Why the Truth Might Get You Fired  Consortiumnews.com   \n",
       "3   3  15 Civilians Killed In Single US Airstrike Hav...     Jessica Purkiss   \n",
       "4   4  Iranian woman jailed for fictional unpublished...      Howard Portnoy   \n",
       "\n",
       "                                                text  \n",
       "0  House Dem Aide: We Didn’t Even See Comey’s Let...  \n",
       "1  Ever get the feeling your life circles the rou...  \n",
       "2  Why the Truth Might Get You Fired October 29, ...  \n",
       "3  Videos 15 Civilians Killed In Single US Airstr...  \n",
       "4  Print \\nAn Iranian woman has been sentenced to...  "
      ]
     },
     "execution_count": 196,
     "metadata": {},
     "output_type": "execute_result"
    }
   ],
   "source": [
    "X.head(5)"
   ]
  },
  {
   "cell_type": "code",
   "execution_count": 197,
   "id": "15be572e",
   "metadata": {},
   "outputs": [],
   "source": [
    "import tensorflow as tf"
   ]
  },
  {
   "cell_type": "code",
   "execution_count": 198,
   "id": "5e5a3822",
   "metadata": {},
   "outputs": [
    {
     "data": {
      "text/plain": [
       "'2.8.0'"
      ]
     },
     "execution_count": 198,
     "metadata": {},
     "output_type": "execute_result"
    }
   ],
   "source": [
    "tf.__version__"
   ]
  },
  {
   "cell_type": "code",
   "execution_count": 199,
   "id": "cccc10e7",
   "metadata": {},
   "outputs": [],
   "source": [
    "from tensorflow.keras.layers import Embedding\n",
    "from tensorflow.keras.preprocessing.sequence import pad_sequences\n",
    "from tensorflow.keras.models import Sequential\n",
    "from tensorflow.keras.preprocessing.text import one_hot\n",
    "from tensorflow.keras.layers import LSTM\n",
    "from tensorflow.keras.layers import Dense"
   ]
  },
  {
   "cell_type": "markdown",
   "id": "cd7fb8da",
   "metadata": {},
   "source": [
    "# One hot representation"
   ]
  },
  {
   "cell_type": "code",
   "execution_count": 200,
   "id": "c532f1de",
   "metadata": {},
   "outputs": [],
   "source": [
    "messages=X.copy()"
   ]
  },
  {
   "cell_type": "code",
   "execution_count": 201,
   "id": "e51fa91d",
   "metadata": {},
   "outputs": [
    {
     "data": {
      "text/plain": [
       "'House Dem Aide: We Didn’t Even See Comey’s Letter Until Jason Chaffetz Tweeted It'"
      ]
     },
     "execution_count": 201,
     "metadata": {},
     "output_type": "execute_result"
    }
   ],
   "source": [
    "messages['title'][0]"
   ]
  },
  {
   "cell_type": "code",
   "execution_count": 202,
   "id": "888560c7",
   "metadata": {},
   "outputs": [],
   "source": [
    "messages.reset_index(inplace=True)"
   ]
  },
  {
   "cell_type": "code",
   "execution_count": 203,
   "id": "df924b30",
   "metadata": {},
   "outputs": [],
   "source": [
    "import nltk\n",
    "import re\n",
    "from nltk.corpus import stopwords\n",
    "from nltk.stem.porter import PorterStemmer"
   ]
  },
  {
   "cell_type": "code",
   "execution_count": 204,
   "id": "b398a06b",
   "metadata": {},
   "outputs": [],
   "source": [
    "from nltk.stem.porter import PorterStemmer\n",
    "ps = PorterStemmer()\n",
    "corpus = []\n",
    "for i in range(0, len(messages)):\n",
    "    review = re.sub('[^a-zA-Z]', ' ', messages['title'][i])\n",
    "    review = review.lower()\n",
    "    review = review.split()\n",
    "    \n",
    "    review = [ps.stem(word) for word in review if not word in stopwords.words('english')]\n",
    "    review = ' '.join(review)\n",
    "    corpus.append(review)"
   ]
  },
  {
   "cell_type": "code",
   "execution_count": 205,
   "id": "478ef3b5",
   "metadata": {},
   "outputs": [],
   "source": [
    "stem_obj=PorterStemmer()\n",
    "# for word in messages['title'][1]:\n",
    "corpus=[]\n",
    "\n",
    "for i in range(len(messages['title'])):\n",
    "    messages_preprocess=re.sub('[^a-zA-Z]', ' ',messages['title'][i] )\n",
    "    messages_preprocess=messages_preprocess.lower()\n",
    "    messages_preprocess=messages_preprocess.split()\n",
    "\n",
    "    stemmed_sentance=[]\n",
    "    for word in messages_preprocess:\n",
    "        if word not in set(stopwords.words('english')):\n",
    "            stemmed_word=stem_obj.stem(word)\n",
    "            stemmed_sentance.append(stemmed_word)\n",
    "    #     stemmed_sentance=' '.join(stemmed_sentance)\n",
    "    stemmed_sentance=' '.join(stemmed_sentance)\n",
    "    corpus.append(stemmed_sentance)\n"
   ]
  },
  {
   "cell_type": "code",
   "execution_count": 206,
   "id": "77a05d5b",
   "metadata": {},
   "outputs": [
    {
     "data": {
      "text/plain": [
       "'hous dem aid even see comey letter jason chaffetz tweet'"
      ]
     },
     "execution_count": 206,
     "metadata": {},
     "output_type": "execute_result"
    }
   ],
   "source": [
    "corpus[0]"
   ]
  },
  {
   "cell_type": "code",
   "execution_count": 207,
   "id": "5a93be99",
   "metadata": {},
   "outputs": [
    {
     "data": {
      "text/plain": [
       "'flynn hillari clinton big woman campu breitbart'"
      ]
     },
     "execution_count": 207,
     "metadata": {},
     "output_type": "execute_result"
    }
   ],
   "source": [
    "corpus[1]"
   ]
  },
  {
   "cell_type": "code",
   "execution_count": 208,
   "id": "89c5962c",
   "metadata": {},
   "outputs": [],
   "source": [
    "vocab_size=5000"
   ]
  },
  {
   "cell_type": "code",
   "execution_count": 209,
   "id": "77b42b07",
   "metadata": {},
   "outputs": [],
   "source": [
    "one_hot_message_list=[one_hot(sentance,vocab_size) for sentance in corpus]\n"
   ]
  },
  {
   "cell_type": "code",
   "execution_count": 210,
   "id": "8516fa03",
   "metadata": {},
   "outputs": [
    {
     "name": "stdout",
     "output_type": "stream",
     "text": [
      "10\n"
     ]
    }
   ],
   "source": [
    "print(len(one_hot_message_list[0]))"
   ]
  },
  {
   "cell_type": "code",
   "execution_count": 211,
   "id": "3ac2e826",
   "metadata": {},
   "outputs": [
    {
     "name": "stdout",
     "output_type": "stream",
     "text": [
      "[[   0    0    0 ... 4842 3186 1852]\n",
      " [   0    0    0 ... 2698 1827 4990]\n",
      " [   0    0    0 ... 1222 1720 3890]\n",
      " ...\n",
      " [   0    0    0 ... 2280 4219  989]\n",
      " [   0    0    0 ... 2211 2421  578]\n",
      " [   0    0    0 ... 1701 2809 4632]]\n"
     ]
    }
   ],
   "source": [
    "pad_length=20\n",
    "padded_messages=pad_sequences(one_hot_message_list,padding='pre',maxlen=pad_length)\n",
    "print(padded_messages)"
   ]
  },
  {
   "cell_type": "code",
   "execution_count": 212,
   "id": "448b337d",
   "metadata": {},
   "outputs": [
    {
     "name": "stdout",
     "output_type": "stream",
     "text": [
      "Model: \"sequential_4\"\n",
      "_________________________________________________________________\n",
      " Layer (type)                Output Shape              Param #   \n",
      "=================================================================\n",
      " embedding_4 (Embedding)     (None, 20, 40)            200000    \n",
      "                                                                 \n",
      " lstm_4 (LSTM)               (None, 100)               56400     \n",
      "                                                                 \n",
      " dense_4 (Dense)             (None, 1)                 101       \n",
      "                                                                 \n",
      "=================================================================\n",
      "Total params: 256,501\n",
      "Trainable params: 256,501\n",
      "Non-trainable params: 0\n",
      "_________________________________________________________________\n"
     ]
    }
   ],
   "source": [
    "model=Sequential()\n",
    "model.add(Embedding(input_dim=vocab_size, output_dim=40, input_length=pad_length))\n",
    "model.add(LSTM(units=100))\n",
    "model.add(Dense(1,activation='sigmoid'))\n",
    "model.compile(loss='binary_crossentropy',optimizer='adam',metrics=['accuracy'])\n",
    "model.summary()"
   ]
  },
  {
   "cell_type": "code",
   "execution_count": 213,
   "id": "2f139501",
   "metadata": {},
   "outputs": [
    {
     "data": {
      "text/plain": [
       "(18285, (18285,))"
      ]
     },
     "execution_count": 213,
     "metadata": {},
     "output_type": "execute_result"
    }
   ],
   "source": [
    "len(padded_messages),y.shape"
   ]
  },
  {
   "cell_type": "code",
   "execution_count": 214,
   "id": "3ae9514d",
   "metadata": {},
   "outputs": [],
   "source": [
    "import numpy as np\n",
    "X_final=np.array(padded_messages)\n",
    "y_final=np.array(y)"
   ]
  },
  {
   "cell_type": "code",
   "execution_count": 215,
   "id": "fefbe0bb",
   "metadata": {},
   "outputs": [
    {
     "data": {
      "text/plain": [
       "((18285, 20), (18285,))"
      ]
     },
     "execution_count": 215,
     "metadata": {},
     "output_type": "execute_result"
    }
   ],
   "source": [
    "X_final.shape,y_final.shape"
   ]
  },
  {
   "cell_type": "code",
   "execution_count": 216,
   "id": "5e08cf70",
   "metadata": {},
   "outputs": [],
   "source": [
    "from sklearn.model_selection import train_test_split\n",
    "X_train, X_test, y_train, y_test = train_test_split(X_final, y_final, test_size=0.33, random_state=42)"
   ]
  },
  {
   "cell_type": "code",
   "execution_count": 217,
   "id": "51643d6a",
   "metadata": {},
   "outputs": [
    {
     "name": "stdout",
     "output_type": "stream",
     "text": [
      "Epoch 1/5\n",
      "192/192 [==============================] - 13s 38ms/step - loss: 0.3303 - accuracy: 0.8442 - val_loss: 0.2064 - val_accuracy: 0.9171\n",
      "Epoch 2/5\n",
      "192/192 [==============================] - 6s 32ms/step - loss: 0.1368 - accuracy: 0.9452 - val_loss: 0.2205 - val_accuracy: 0.9211\n",
      "Epoch 3/5\n",
      "192/192 [==============================] - 6s 32ms/step - loss: 0.0935 - accuracy: 0.9647 - val_loss: 0.2236 - val_accuracy: 0.9200\n",
      "Epoch 4/5\n",
      "192/192 [==============================] - 6s 33ms/step - loss: 0.0643 - accuracy: 0.9770 - val_loss: 0.2800 - val_accuracy: 0.9162\n",
      "Epoch 5/5\n",
      "192/192 [==============================] - 6s 32ms/step - loss: 0.0445 - accuracy: 0.9849 - val_loss: 0.2732 - val_accuracy: 0.9122\n"
     ]
    }
   ],
   "source": [
    "history2 = model.fit(X_train, y_train, validation_data=(X_test,y_test),epochs=5,batch_size=64)"
   ]
  },
  {
   "cell_type": "code",
   "execution_count": 229,
   "id": "ad003158",
   "metadata": {},
   "outputs": [
    {
     "name": "stdout",
     "output_type": "stream",
     "text": [
      "189/189 [==============================] - 2s 8ms/step - loss: 0.2732 - accuracy: 0.9122\n"
     ]
    }
   ],
   "source": [
    "model_evaluate=model.evaluate(X_test,y_test,return_dict=True)"
   ]
  },
  {
   "cell_type": "code",
   "execution_count": 230,
   "id": "224f4e1d",
   "metadata": {},
   "outputs": [],
   "source": [
    "import matplotlib\n",
    "import matplotlib.pyplot as plt\n",
    "\n",
    "train_loss=history2.history['loss']\n",
    "val_loss=history2.history['val_loss']\n",
    "train_acc=history2.history['accuracy']\n",
    "val_acc=history2.history['val_accuracy']"
   ]
  },
  {
   "cell_type": "code",
   "execution_count": 231,
   "id": "ad23dd9a",
   "metadata": {},
   "outputs": [
    {
     "data": {
      "image/png": "[encoded data removed]",
      "text/plain": [
       "<Figure size 560x400 with 1 Axes>"
      ]
     },
     "metadata": {},
     "output_type": "display_data"
    }
   ],
   "source": [
    "xc=range(5)\n",
    "plt.figure(1,figsize=(7,5))\n",
    "plt.plot(xc,train_loss)\n",
    "plt.plot(xc,val_loss)\n",
    "plt.xlabel('num of Epochs')\n",
    "plt.ylabel('loss')\n",
    "plt.title('train_loss vs val_loss')\n",
    "plt.grid(True)\n",
    "plt.legend(['train','val'])\n",
    "# print plt.style.available # use bmh, classic,ggplot for big pictures\n",
    "plt.style.use(['classic'])\n"
   ]
  },
  {
   "cell_type": "code",
   "execution_count": 232,
   "id": "d5859ebd",
   "metadata": {},
   "outputs": [
    {
     "data": {
      "image/png": "[encoded data removed]",
      "text/plain": [
       "<Figure size 560x400 with 1 Axes>"
      ]
     },
     "metadata": {},
     "output_type": "display_data"
    }
   ],
   "source": [
    "plt.figure(2,figsize=(7,5))\n",
    "plt.plot(xc,train_acc)\n",
    "plt.plot(xc,val_acc)\n",
    "plt.xlabel('num of Epochs')\n",
    "plt.ylabel('accuracy')\n",
    "plt.title('train_acc vs val_acc')\n",
    "plt.grid(True)\n",
    "plt.legend(['train','val'],loc=4)\n",
    "#print plt.style.available # use bmh, classic,ggplot for big pictures\n",
    "plt.style.use(['classic'])"
   ]
  },
  {
   "cell_type": "markdown",
   "id": "72f0bdb2",
   "metadata": {},
   "source": [
    "# 1. b. Same model as above with drop out layers"
   ]
  },
  {
   "cell_type": "code",
   "execution_count": 233,
   "id": "f49e127a",
   "metadata": {},
   "outputs": [
    {
     "name": "stdout",
     "output_type": "stream",
     "text": [
      "Model: \"sequential_6\"\n",
      "_________________________________________________________________\n",
      " Layer (type)                Output Shape              Param #   \n",
      "=================================================================\n",
      " embedding_6 (Embedding)     (None, 20, 40)            200000    \n",
      "                                                                 \n",
      " dropout_8 (Dropout)         (None, 20, 40)            0         \n",
      "                                                                 \n",
      " lstm_6 (LSTM)               (None, 100)               56400     \n",
      "                                                                 \n",
      " dropout_9 (Dropout)         (None, 100)               0         \n",
      "                                                                 \n",
      " dense_6 (Dense)             (None, 1)                 101       \n",
      "                                                                 \n",
      "=================================================================\n",
      "Total params: 256,501\n",
      "Trainable params: 256,501\n",
      "Non-trainable params: 0\n",
      "_________________________________________________________________\n"
     ]
    }
   ],
   "source": [
    "from tensorflow.keras.layers import Dropout\n",
    "\n",
    "model1=Sequential()\n",
    "model1.add(Embedding(input_dim=vocab_size, output_dim=40, input_length=pad_length))\n",
    "model1.add(Dropout(0.3))\n",
    "model1.add(LSTM(units=100))\n",
    "model1.add(Dropout(0.3))\n",
    "model1.add(Dense(1,activation='sigmoid'))\n",
    "model1.compile(loss='binary_crossentropy',optimizer='adam',metrics=['accuracy'])\n",
    "model1.summary()"
   ]
  },
  {
   "cell_type": "code",
   "execution_count": 234,
   "id": "b399371c",
   "metadata": {},
   "outputs": [
    {
     "name": "stdout",
     "output_type": "stream",
     "text": [
      "Epoch 1/5\n",
      "192/192 [==============================] - 12s 44ms/step - loss: 0.3431 - accuracy: 0.8396 - val_loss: 0.2026 - val_accuracy: 0.9165\n",
      "Epoch 2/5\n",
      "192/192 [==============================] - 6s 34ms/step - loss: 0.1515 - accuracy: 0.9402 - val_loss: 0.1967 - val_accuracy: 0.9186\n",
      "Epoch 3/5\n",
      "192/192 [==============================] - 6s 33ms/step - loss: 0.1111 - accuracy: 0.9590 - val_loss: 0.2025 - val_accuracy: 0.9206\n",
      "Epoch 4/5\n",
      "192/192 [==============================] - 6s 33ms/step - loss: 0.0864 - accuracy: 0.9682 - val_loss: 0.2305 - val_accuracy: 0.9104\n",
      "Epoch 5/5\n",
      "192/192 [==============================] - 6s 33ms/step - loss: 0.0679 - accuracy: 0.9760 - val_loss: 0.2476 - val_accuracy: 0.9158\n"
     ]
    }
   ],
   "source": [
    "history2 = model1.fit(X_train, y_train, validation_data=(X_test,y_test),epochs=5,batch_size=64)"
   ]
  },
  {
   "cell_type": "code",
   "execution_count": 235,
   "id": "fa41d6dd",
   "metadata": {},
   "outputs": [],
   "source": [
    "train_loss=history2.history['loss']\n",
    "val_loss=history2.history['val_loss']\n",
    "train_acc=history2.history['accuracy']\n",
    "val_acc=history2.history['val_accuracy']"
   ]
  },
  {
   "cell_type": "code",
   "execution_count": 236,
   "id": "a8bdfc5e",
   "metadata": {},
   "outputs": [
    {
     "data": {
      "image/png": "[encoded data removed]",
      "text/plain": [
       "<Figure size 560x400 with 1 Axes>"
      ]
     },
     "metadata": {},
     "output_type": "display_data"
    }
   ],
   "source": [
    "xc=range(5)\n",
    "plt.figure(1,figsize=(7,5))\n",
    "plt.plot(xc,train_loss)\n",
    "plt.plot(xc,val_loss)\n",
    "plt.xlabel('num of Epochs')\n",
    "plt.ylabel('loss')\n",
    "plt.title('train_loss vs val_loss')\n",
    "plt.grid(True)\n",
    "plt.legend(['train','val'])\n",
    "# print plt.style.available # use bmh, classic,ggplot for big pictures\n",
    "plt.style.use(['classic'])\n"
   ]
  },
  {
   "cell_type": "code",
   "execution_count": 237,
   "id": "f04f84aa",
   "metadata": {},
   "outputs": [
    {
     "data": {
      "image/png": "[encoded data removed]",
      "text/plain": [
       "<Figure size 560x400 with 1 Axes>"
      ]
     },
     "metadata": {},
     "output_type": "display_data"
    }
   ],
   "source": [
    "plt.figure(2,figsize=(7,5))\n",
    "plt.plot(xc,train_acc)\n",
    "plt.plot(xc,val_acc)\n",
    "plt.xlabel('num of Epochs')\n",
    "plt.ylabel('accuracy')\n",
    "plt.title('train_acc vs val_acc')\n",
    "plt.grid(True)\n",
    "plt.legend(['train','val'],loc=4)\n",
    "#print plt.style.available # use bmh, classic,ggplot for big pictures\n",
    "plt.style.use(['classic'])"
   ]
  },
  {
   "cell_type": "code",
   "execution_count": 238,
   "id": "c4186876",
   "metadata": {},
   "outputs": [
    {
     "name": "stdout",
     "output_type": "stream",
     "text": [
      "189/189 [==============================] - 2s 8ms/step - loss: 0.2476 - accuracy: 0.9158\n"
     ]
    }
   ],
   "source": [
    "model_evaluate=model1.evaluate(X_test,y_test,return_dict=True)"
   ]
  },
  {
   "cell_type": "markdown",
   "id": "ab9e8ae6",
   "metadata": {},
   "source": [
    "# 2. Adding author name to feature text"
   ]
  },
  {
   "cell_type": "code",
   "execution_count": 239,
   "id": "3b8ba480",
   "metadata": {},
   "outputs": [],
   "source": [
    "corpus1 = []\n",
    "for i in range(0, len(messages)):\n",
    "    review = re.sub('[^a-zA-Z]', ' ', messages['author'][i])\n",
    "#     review = re.sub(r\"\\s+\", '_', review)\n",
    "    review= re.sub(' +','_',review)\n",
    "    review = review.lower()\n",
    "    corpus1.append(review)"
   ]
  },
  {
   "cell_type": "code",
   "execution_count": 240,
   "id": "fbef8d52",
   "metadata": {},
   "outputs": [],
   "source": [
    "messages['new_author'] = corpus1"
   ]
  },
  {
   "cell_type": "code",
   "execution_count": 241,
   "id": "f28cc8df",
   "metadata": {},
   "outputs": [],
   "source": [
    "messages['new_title'] = corpus"
   ]
  },
  {
   "cell_type": "code",
   "execution_count": 242,
   "id": "fbfce125",
   "metadata": {},
   "outputs": [],
   "source": [
    "messages[\"concat_text\"] = messages[\"new_title\"] + \" \" + messages[\"new_author\"]"
   ]
  },
  {
   "cell_type": "code",
   "execution_count": 243,
   "id": "f12d97cd",
   "metadata": {},
   "outputs": [
    {
     "data": {
      "text/html": [
       "<div>\n",
       "<style scoped>\n",
       "    .dataframe tbody tr th:only-of-type {\n",
       "        vertical-align: middle;\n",
       "    }\n",
       "\n",
       "    .dataframe tbody tr th {\n",
       "        vertical-align: top;\n",
       "    }\n",
       "\n",
       "    .dataframe thead th {\n",
       "        text-align: right;\n",
       "    }\n",
       "</style>\n",
       "<table border=\"1\" class=\"dataframe\">\n",
       "  <thead>\n",
       "    <tr style=\"text-align: right;\">\n",
       "      <th></th>\n",
       "      <th>index</th>\n",
       "      <th>id</th>\n",
       "      <th>title</th>\n",
       "      <th>author</th>\n",
       "      <th>text</th>\n",
       "      <th>new_author</th>\n",
       "      <th>new_title</th>\n",
       "      <th>concat_text</th>\n",
       "    </tr>\n",
       "  </thead>\n",
       "  <tbody>\n",
       "    <tr>\n",
       "      <th>0</th>\n",
       "      <td>0</td>\n",
       "      <td>0</td>\n",
       "      <td>House Dem Aide: We Didn’t Even See Comey’s Let...</td>\n",
       "      <td>Darrell Lucus</td>\n",
       "      <td>House Dem Aide: We Didn’t Even See Comey’s Let...</td>\n",
       "      <td>darrell_lucus</td>\n",
       "      <td>hous dem aid even see comey letter jason chaff...</td>\n",
       "      <td>hous dem aid even see comey letter jason chaff...</td>\n",
       "    </tr>\n",
       "    <tr>\n",
       "      <th>1</th>\n",
       "      <td>1</td>\n",
       "      <td>1</td>\n",
       "      <td>FLYNN: Hillary Clinton, Big Woman on Campus - ...</td>\n",
       "      <td>Daniel J. Flynn</td>\n",
       "      <td>Ever get the feeling your life circles the rou...</td>\n",
       "      <td>daniel_j_flynn</td>\n",
       "      <td>flynn hillari clinton big woman campu breitbart</td>\n",
       "      <td>flynn hillari clinton big woman campu breitbar...</td>\n",
       "    </tr>\n",
       "    <tr>\n",
       "      <th>2</th>\n",
       "      <td>2</td>\n",
       "      <td>2</td>\n",
       "      <td>Why the Truth Might Get You Fired</td>\n",
       "      <td>Consortiumnews.com</td>\n",
       "      <td>Why the Truth Might Get You Fired October 29, ...</td>\n",
       "      <td>consortiumnews_com</td>\n",
       "      <td>truth might get fire</td>\n",
       "      <td>truth might get fire consortiumnews_com</td>\n",
       "    </tr>\n",
       "    <tr>\n",
       "      <th>3</th>\n",
       "      <td>3</td>\n",
       "      <td>3</td>\n",
       "      <td>15 Civilians Killed In Single US Airstrike Hav...</td>\n",
       "      <td>Jessica Purkiss</td>\n",
       "      <td>Videos 15 Civilians Killed In Single US Airstr...</td>\n",
       "      <td>jessica_purkiss</td>\n",
       "      <td>civilian kill singl us airstrik identifi</td>\n",
       "      <td>civilian kill singl us airstrik identifi jessi...</td>\n",
       "    </tr>\n",
       "    <tr>\n",
       "      <th>4</th>\n",
       "      <td>4</td>\n",
       "      <td>4</td>\n",
       "      <td>Iranian woman jailed for fictional unpublished...</td>\n",
       "      <td>Howard Portnoy</td>\n",
       "      <td>Print \\nAn Iranian woman has been sentenced to...</td>\n",
       "      <td>howard_portnoy</td>\n",
       "      <td>iranian woman jail fiction unpublish stori wom...</td>\n",
       "      <td>iranian woman jail fiction unpublish stori wom...</td>\n",
       "    </tr>\n",
       "    <tr>\n",
       "      <th>...</th>\n",
       "      <td>...</td>\n",
       "      <td>...</td>\n",
       "      <td>...</td>\n",
       "      <td>...</td>\n",
       "      <td>...</td>\n",
       "      <td>...</td>\n",
       "      <td>...</td>\n",
       "      <td>...</td>\n",
       "    </tr>\n",
       "    <tr>\n",
       "      <th>18280</th>\n",
       "      <td>20795</td>\n",
       "      <td>20795</td>\n",
       "      <td>Rapper T.I.: Trump a ’Poster Child For White S...</td>\n",
       "      <td>Jerome Hudson</td>\n",
       "      <td>Rapper T. I. unloaded on black celebrities who...</td>\n",
       "      <td>jerome_hudson</td>\n",
       "      <td>rapper trump poster child white supremaci</td>\n",
       "      <td>rapper trump poster child white supremaci jero...</td>\n",
       "    </tr>\n",
       "    <tr>\n",
       "      <th>18281</th>\n",
       "      <td>20796</td>\n",
       "      <td>20796</td>\n",
       "      <td>N.F.L. Playoffs: Schedule, Matchups and Odds -...</td>\n",
       "      <td>Benjamin Hoffman</td>\n",
       "      <td>When the Green Bay Packers lost to the Washing...</td>\n",
       "      <td>benjamin_hoffman</td>\n",
       "      <td>n f l playoff schedul matchup odd new york time</td>\n",
       "      <td>n f l playoff schedul matchup odd new york tim...</td>\n",
       "    </tr>\n",
       "    <tr>\n",
       "      <th>18282</th>\n",
       "      <td>20797</td>\n",
       "      <td>20797</td>\n",
       "      <td>Macy’s Is Said to Receive Takeover Approach by...</td>\n",
       "      <td>Michael J. de la Merced and Rachel Abrams</td>\n",
       "      <td>The Macy’s of today grew from the union of sev...</td>\n",
       "      <td>michael_j_de_la_merced_and_rachel_abrams</td>\n",
       "      <td>maci said receiv takeov approach hudson bay ne...</td>\n",
       "      <td>maci said receiv takeov approach hudson bay ne...</td>\n",
       "    </tr>\n",
       "    <tr>\n",
       "      <th>18283</th>\n",
       "      <td>20798</td>\n",
       "      <td>20798</td>\n",
       "      <td>NATO, Russia To Hold Parallel Exercises In Bal...</td>\n",
       "      <td>Alex Ansary</td>\n",
       "      <td>NATO, Russia To Hold Parallel Exercises In Bal...</td>\n",
       "      <td>alex_ansary</td>\n",
       "      <td>nato russia hold parallel exercis balkan</td>\n",
       "      <td>nato russia hold parallel exercis balkan alex_...</td>\n",
       "    </tr>\n",
       "    <tr>\n",
       "      <th>18284</th>\n",
       "      <td>20799</td>\n",
       "      <td>20799</td>\n",
       "      <td>What Keeps the F-35 Alive</td>\n",
       "      <td>David Swanson</td>\n",
       "      <td>David Swanson is an author, activist, journa...</td>\n",
       "      <td>david_swanson</td>\n",
       "      <td>keep f aliv</td>\n",
       "      <td>keep f aliv david_swanson</td>\n",
       "    </tr>\n",
       "  </tbody>\n",
       "</table>\n",
       "<p>18285 rows × 8 columns</p>\n",
       "</div>"
      ],
      "text/plain": [
       "       index     id                                              title  \\\n",
       "0          0      0  House Dem Aide: We Didn’t Even See Comey’s Let...   \n",
       "1          1      1  FLYNN: Hillary Clinton, Big Woman on Campus - ...   \n",
       "2          2      2                  Why the Truth Might Get You Fired   \n",
       "3          3      3  15 Civilians Killed In Single US Airstrike Hav...   \n",
       "4          4      4  Iranian woman jailed for fictional unpublished...   \n",
       "...      ...    ...                                                ...   \n",
       "18280  20795  20795  Rapper T.I.: Trump a ’Poster Child For White S...   \n",
       "18281  20796  20796  N.F.L. Playoffs: Schedule, Matchups and Odds -...   \n",
       "18282  20797  20797  Macy’s Is Said to Receive Takeover Approach by...   \n",
       "18283  20798  20798  NATO, Russia To Hold Parallel Exercises In Bal...   \n",
       "18284  20799  20799                          What Keeps the F-35 Alive   \n",
       "\n",
       "                                          author  \\\n",
       "0                                  Darrell Lucus   \n",
       "1                                Daniel J. Flynn   \n",
       "2                             Consortiumnews.com   \n",
       "3                                Jessica Purkiss   \n",
       "4                                 Howard Portnoy   \n",
       "...                                          ...   \n",
       "18280                              Jerome Hudson   \n",
       "18281                           Benjamin Hoffman   \n",
       "18282  Michael J. de la Merced and Rachel Abrams   \n",
       "18283                                Alex Ansary   \n",
       "18284                              David Swanson   \n",
       "\n",
       "                                                    text  \\\n",
       "0      House Dem Aide: We Didn’t Even See Comey’s Let...   \n",
       "1      Ever get the feeling your life circles the rou...   \n",
       "2      Why the Truth Might Get You Fired October 29, ...   \n",
       "3      Videos 15 Civilians Killed In Single US Airstr...   \n",
       "4      Print \\nAn Iranian woman has been sentenced to...   \n",
       "...                                                  ...   \n",
       "18280  Rapper T. I. unloaded on black celebrities who...   \n",
       "18281  When the Green Bay Packers lost to the Washing...   \n",
       "18282  The Macy’s of today grew from the union of sev...   \n",
       "18283  NATO, Russia To Hold Parallel Exercises In Bal...   \n",
       "18284    David Swanson is an author, activist, journa...   \n",
       "\n",
       "                                     new_author  \\\n",
       "0                                 darrell_lucus   \n",
       "1                                daniel_j_flynn   \n",
       "2                            consortiumnews_com   \n",
       "3                               jessica_purkiss   \n",
       "4                                howard_portnoy   \n",
       "...                                         ...   \n",
       "18280                             jerome_hudson   \n",
       "18281                          benjamin_hoffman   \n",
       "18282  michael_j_de_la_merced_and_rachel_abrams   \n",
       "18283                               alex_ansary   \n",
       "18284                             david_swanson   \n",
       "\n",
       "                                               new_title  \\\n",
       "0      hous dem aid even see comey letter jason chaff...   \n",
       "1        flynn hillari clinton big woman campu breitbart   \n",
       "2                                   truth might get fire   \n",
       "3               civilian kill singl us airstrik identifi   \n",
       "4      iranian woman jail fiction unpublish stori wom...   \n",
       "...                                                  ...   \n",
       "18280          rapper trump poster child white supremaci   \n",
       "18281    n f l playoff schedul matchup odd new york time   \n",
       "18282  maci said receiv takeov approach hudson bay ne...   \n",
       "18283           nato russia hold parallel exercis balkan   \n",
       "18284                                        keep f aliv   \n",
       "\n",
       "                                             concat_text  \n",
       "0      hous dem aid even see comey letter jason chaff...  \n",
       "1      flynn hillari clinton big woman campu breitbar...  \n",
       "2                truth might get fire consortiumnews_com  \n",
       "3      civilian kill singl us airstrik identifi jessi...  \n",
       "4      iranian woman jail fiction unpublish stori wom...  \n",
       "...                                                  ...  \n",
       "18280  rapper trump poster child white supremaci jero...  \n",
       "18281  n f l playoff schedul matchup odd new york tim...  \n",
       "18282  maci said receiv takeov approach hudson bay ne...  \n",
       "18283  nato russia hold parallel exercis balkan alex_...  \n",
       "18284                          keep f aliv david_swanson  \n",
       "\n",
       "[18285 rows x 8 columns]"
      ]
     },
     "execution_count": 243,
     "metadata": {},
     "output_type": "execute_result"
    }
   ],
   "source": [
    "messages"
   ]
  },
  {
   "cell_type": "code",
   "execution_count": 244,
   "id": "bab1d51a",
   "metadata": {},
   "outputs": [
    {
     "data": {
      "text/plain": [
       "'hous dem aid even see comey letter jason chaffetz tweet darrell_lucus'"
      ]
     },
     "execution_count": 244,
     "metadata": {},
     "output_type": "execute_result"
    }
   ],
   "source": [
    "messages[\"concat_text\"][0]"
   ]
  },
  {
   "cell_type": "code",
   "execution_count": 250,
   "id": "c9c5f5ee",
   "metadata": {},
   "outputs": [],
   "source": [
    "new_list=list(messages[\"concat_text\"])"
   ]
  },
  {
   "cell_type": "code",
   "execution_count": 251,
   "id": "55e5c7a8",
   "metadata": {},
   "outputs": [
    {
     "name": "stdout",
     "output_type": "stream",
     "text": [
      "12\n",
      "[[   0    0    0 ... 1852 2975 1398]\n",
      " [   0    0    0 ... 4808 3946 1565]\n",
      " [   0    0    0 ... 3890 2866   96]\n",
      " ...\n",
      " [   0    0 1834 ... 2600 4609 1712]\n",
      " [   0    0    0 ...  578  610 2253]\n",
      " [   0    0    0 ... 4632 2853  172]]\n"
     ]
    }
   ],
   "source": [
    "vocab_size=5000\n",
    "one_hot_message_list=[one_hot(sentance,vocab_size) for sentance in new_list]\n",
    "print(len(one_hot_message_list[0]))\n",
    "pad_length=20\n",
    "padded_messages=pad_sequences(one_hot_message_list,padding='pre',maxlen=pad_length)\n",
    "print(padded_messages)"
   ]
  },
  {
   "cell_type": "code",
   "execution_count": 252,
   "id": "702cfde4",
   "metadata": {},
   "outputs": [
    {
     "name": "stdout",
     "output_type": "stream",
     "text": [
      "Model: \"sequential_8\"\n",
      "_________________________________________________________________\n",
      " Layer (type)                Output Shape              Param #   \n",
      "=================================================================\n",
      " embedding_8 (Embedding)     (None, 20, 40)            200000    \n",
      "                                                                 \n",
      " dropout_12 (Dropout)        (None, 20, 40)            0         \n",
      "                                                                 \n",
      " lstm_8 (LSTM)               (None, 100)               56400     \n",
      "                                                                 \n",
      " dropout_13 (Dropout)        (None, 100)               0         \n",
      "                                                                 \n",
      " dense_8 (Dense)             (None, 1)                 101       \n",
      "                                                                 \n",
      "=================================================================\n",
      "Total params: 256,501\n",
      "Trainable params: 256,501\n",
      "Non-trainable params: 0\n",
      "_________________________________________________________________\n"
     ]
    }
   ],
   "source": [
    "from tensorflow.keras.layers import Dropout\n",
    "\n",
    "model2=Sequential()\n",
    "model2.add(Embedding(input_dim=vocab_size, output_dim=40, input_length=pad_length))\n",
    "model2.add(Dropout(0.3))\n",
    "model2.add(LSTM(units=100))\n",
    "model2.add(Dropout(0.3))\n",
    "model2.add(Dense(1,activation='sigmoid'))\n",
    "model2.compile(loss='binary_crossentropy',optimizer='adam',metrics=['accuracy'])\n",
    "model2.summary()"
   ]
  },
  {
   "cell_type": "code",
   "execution_count": 253,
   "id": "78142990",
   "metadata": {},
   "outputs": [
    {
     "data": {
      "text/plain": [
       "(18285, (18285,))"
      ]
     },
     "execution_count": 253,
     "metadata": {},
     "output_type": "execute_result"
    }
   ],
   "source": [
    "len(padded_messages),y.shape"
   ]
  },
  {
   "cell_type": "code",
   "execution_count": 254,
   "id": "0bdd65e3",
   "metadata": {},
   "outputs": [],
   "source": [
    "import numpy as np\n",
    "X_final=np.array(padded_messages)\n",
    "y_final=np.array(y)"
   ]
  },
  {
   "cell_type": "code",
   "execution_count": 255,
   "id": "4d0d76c0",
   "metadata": {},
   "outputs": [
    {
     "data": {
      "text/plain": [
       "((18285, 20), (18285,))"
      ]
     },
     "execution_count": 255,
     "metadata": {},
     "output_type": "execute_result"
    }
   ],
   "source": [
    "X_final.shape,y_final.shape"
   ]
  },
  {
   "cell_type": "code",
   "execution_count": 256,
   "id": "a27bf30e",
   "metadata": {},
   "outputs": [],
   "source": [
    "from sklearn.model_selection import train_test_split\n",
    "X_train, X_test, y_train, y_test = train_test_split(X_final, y_final, test_size=0.33, random_state=42)"
   ]
  },
  {
   "cell_type": "code",
   "execution_count": 257,
   "id": "ed15b320",
   "metadata": {},
   "outputs": [
    {
     "name": "stdout",
     "output_type": "stream",
     "text": [
      "Epoch 1/5\n",
      "192/192 [==============================] - 16s 44ms/step - loss: 0.2389 - accuracy: 0.8971 - val_loss: 0.0587 - val_accuracy: 0.9798\n",
      "Epoch 2/5\n",
      "192/192 [==============================] - 7s 36ms/step - loss: 0.0363 - accuracy: 0.9885 - val_loss: 0.0390 - val_accuracy: 0.9869\n",
      "Epoch 3/5\n",
      "192/192 [==============================] - 7s 35ms/step - loss: 0.0142 - accuracy: 0.9959 - val_loss: 0.0420 - val_accuracy: 0.9838\n",
      "Epoch 4/5\n",
      "192/192 [==============================] - 7s 35ms/step - loss: 0.0106 - accuracy: 0.9967 - val_loss: 0.0422 - val_accuracy: 0.9861\n",
      "Epoch 5/5\n",
      "192/192 [==============================] - 7s 36ms/step - loss: 0.0056 - accuracy: 0.9987 - val_loss: 0.0351 - val_accuracy: 0.9872\n"
     ]
    }
   ],
   "source": [
    "history2 = model2.fit(X_train, y_train, validation_data=(X_test,y_test),epochs=5,batch_size=64)"
   ]
  },
  {
   "cell_type": "code",
   "execution_count": 258,
   "id": "d09fa421",
   "metadata": {},
   "outputs": [],
   "source": [
    "train_loss=history2.history['loss']\n",
    "val_loss=history2.history['val_loss']\n",
    "train_acc=history2.history['accuracy']\n",
    "val_acc=history2.history['val_accuracy']"
   ]
  },
  {
   "cell_type": "code",
   "execution_count": 259,
   "id": "1b88134d",
   "metadata": {},
   "outputs": [
    {
     "data": {
      "image/png": "[encoded data removed]",
      "text/plain": [
       "<Figure size 560x400 with 1 Axes>"
      ]
     },
     "metadata": {},
     "output_type": "display_data"
    }
   ],
   "source": [
    "xc=range(5)\n",
    "plt.figure(1,figsize=(7,5))\n",
    "plt.plot(xc,train_loss)\n",
    "plt.plot(xc,val_loss)\n",
    "plt.xlabel('num of Epochs')\n",
    "plt.ylabel('loss')\n",
    "plt.title('train_loss vs val_loss')\n",
    "plt.grid(True)\n",
    "plt.legend(['train','val'])\n",
    "# print plt.style.available # use bmh, classic,ggplot for big pictures\n",
    "plt.style.use(['classic'])"
   ]
  },
  {
   "cell_type": "code",
   "execution_count": 260,
   "id": "946546c1",
   "metadata": {},
   "outputs": [
    {
     "data": {
      "image/png": "[encoded data removed]",
      "text/plain": [
       "<Figure size 560x400 with 1 Axes>"
      ]
     },
     "metadata": {},
     "output_type": "display_data"
    }
   ],
   "source": [
    "plt.figure(2,figsize=(7,5))\n",
    "plt.plot(xc,train_acc)\n",
    "plt.plot(xc,val_acc)\n",
    "plt.xlabel('num of Epochs')\n",
    "plt.ylabel('accuracy')\n",
    "plt.title('train_acc vs val_acc')\n",
    "plt.grid(True)\n",
    "plt.legend(['train','val'],loc=4)\n",
    "#print plt.style.available # use bmh, classic,ggplot for big pictures\n",
    "plt.style.use(['classic'])"
   ]
  },
  {
   "cell_type": "code",
   "execution_count": 188,
   "id": "6fff448f",
   "metadata": {},
   "outputs": [
    {
     "name": "stdout",
     "output_type": "stream",
     "text": [
      "189/189 [==============================] - 2s 8ms/step - loss: 0.0383 - accuracy: 0.9871\n"
     ]
    }
   ],
   "source": [
    "model_evaluate=model2.evaluate(X_test,y_test,return_dict=True)"
   ]
  },
  {
   "cell_type": "code",
   "execution_count": 266,
   "id": "2a0bbb31",
   "metadata": {},
   "outputs": [],
   "source": [
    "from prettytable import PrettyTable\n",
    "x = PrettyTable()\n",
    "x.field_names = [\"Model\", \"Loss\", \"Accuracy\"]\n",
    "x.add_row([\"1.Using only title as text feature\", 0.2732, 0.9122])\n",
    "x.add_row([\"2.Same model as above with drop out layers\",0.2476, 0.9158])\n",
    "x.add_row([\"3.Adding author name to feature text\", 0.0383, 0.9871])"
   ]
  },
  {
   "cell_type": "code",
   "execution_count": 268,
   "id": "7f7b334f",
   "metadata": {},
   "outputs": [
    {
     "data": {
      "text/html": [
       "<table>\n",
       "    <thead>\n",
       "        <tr>\n",
       "            <th>Model</th>\n",
       "            <th>Loss</th>\n",
       "            <th>Accuracy</th>\n",
       "        </tr>\n",
       "    </thead>\n",
       "    <tbody>\n",
       "        <tr>\n",
       "            <td>1.Using only title as text feature</td>\n",
       "            <td>0.2732</td>\n",
       "            <td>0.9122</td>\n",
       "        </tr>\n",
       "        <tr>\n",
       "            <td>2.Same model as above with drop out layers</td>\n",
       "            <td>0.2476</td>\n",
       "            <td>0.9158</td>\n",
       "        </tr>\n",
       "        <tr>\n",
       "            <td>3.Adding author name to feature text</td>\n",
       "            <td>0.0383</td>\n",
       "            <td>0.9871</td>\n",
       "        </tr>\n",
       "    </tbody>\n",
       "</table>"
      ],
      "text/plain": [
       "+--------------------------------------------+--------+----------+\n",
       "|                   Model                    |  Loss  | Accuracy |\n",
       "+--------------------------------------------+--------+----------+\n",
       "|     1.Using only title as text feature     | 0.2732 |  0.9122  |\n",
       "| 2.Same model as above with drop out layers | 0.2476 |  0.9158  |\n",
       "|    3.Adding author name to feature text    | 0.0383 |  0.9871  |\n",
       "+--------------------------------------------+--------+----------+"
      ]
     },
     "execution_count": 268,
     "metadata": {},
     "output_type": "execute_result"
    }
   ],
   "source": [
    "x"
   ]
  }
 ],
 "metadata": {
  "kernelspec": {
   "display_name": "Python 3",
   "language": "python",
   "name": "python3"
  },
  "language_info": {
   "codemirror_mode": {
    "name": "ipython",
    "version": 3
   },
   "file_extension": ".py",
   "mimetype": "text/x-python",
   "name": "python",
   "nbconvert_exporter": "python",
   "pygments_lexer": "ipython3",
   "version": "3.8.8"
  }
 },
 "nbformat": 4,
 "nbformat_minor": 5
}
